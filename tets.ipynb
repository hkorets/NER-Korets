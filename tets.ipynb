{
 "cells": [
  {
   "cell_type": "code",
   "execution_count": 1,
   "id": "0fe5abea",
   "metadata": {},
   "outputs": [],
   "source": [
    "from src.backend.tools.rag import RAG"
   ]
  },
  {
   "cell_type": "code",
   "execution_count": 2,
   "id": "fc264c28",
   "metadata": {},
   "outputs": [],
   "source": [
    "rag = RAG(\"data/docs/context.md\")"
   ]
  },
  {
   "cell_type": "code",
   "execution_count": 3,
   "id": "62929b47",
   "metadata": {},
   "outputs": [],
   "source": [
    "retriever = rag.load_docs()"
   ]
  },
  {
   "cell_type": "code",
   "execution_count": 10,
   "id": "75fa898d",
   "metadata": {},
   "outputs": [],
   "source": [
    "answer = rag.answer_question(retriever, \"What are students higher education?\")"
   ]
  },
  {
   "cell_type": "code",
   "execution_count": 11,
   "id": "261b916d",
   "metadata": {},
   "outputs": [
    {
     "data": {
      "text/plain": [
       "'The context mentions that Khrystyna Korets is currently studying at the Ukrainian Catholic University in Lviv, in the Faculty of Applied Science, Computer Science program. This indicates that she is pursuing higher education in a university setting.'"
      ]
     },
     "execution_count": 11,
     "metadata": {},
     "output_type": "execute_result"
    }
   ],
   "source": [
    "answer"
   ]
  },
  {
   "cell_type": "code",
   "execution_count": 2,
   "id": "6ce8e445",
   "metadata": {},
   "outputs": [
    {
     "name": "stderr",
     "output_type": "stream",
     "text": [
      "c:\\Users\\Admin\\Desktop\\unidatalab\\agent_korets\\.venv\\lib\\site-packages\\tqdm\\auto.py:21: TqdmWarning: IProgress not found. Please update jupyter and ipywidgets. See https://ipywidgets.readthedocs.io/en/stable/user_install.html\n",
      "  from .autonotebook import tqdm as notebook_tqdm\n"
     ]
    }
   ],
   "source": [
    "from src.backend.tools.ner import NER"
   ]
  },
  {
   "cell_type": "code",
   "execution_count": 3,
   "id": "0b6c5df0",
   "metadata": {},
   "outputs": [
    {
     "name": "stderr",
     "output_type": "stream",
     "text": [
      "Some weights of BertForTokenClassification were not initialized from the model checkpoint at prajjwal1/bert-tiny and are newly initialized: ['classifier.bias', 'classifier.weight']\n",
      "You should probably TRAIN this model on a down-stream task to be able to use it for predictions and inference.\n"
     ]
    }
   ],
   "source": [
    "ner = NER()"
   ]
  },
  {
   "cell_type": "code",
   "execution_count": 6,
   "id": "1ffa671c",
   "metadata": {},
   "outputs": [],
   "source": [
    "entities = ner.anonymize(\"I live in Lviv since 2020\")"
   ]
  },
  {
   "cell_type": "code",
   "execution_count": 7,
   "id": "c2008fe1",
   "metadata": {},
   "outputs": [
    {
     "data": {
      "text/plain": [
       "'i live in {LOCATION} since {DATE}'"
      ]
     },
     "execution_count": 7,
     "metadata": {},
     "output_type": "execute_result"
    }
   ],
   "source": [
    "entities"
   ]
  },
  {
   "cell_type": "code",
   "execution_count": 1,
   "id": "cc07b485",
   "metadata": {},
   "outputs": [
    {
     "name": "stderr",
     "output_type": "stream",
     "text": [
      "c:\\Users\\Admin\\Desktop\\unidatalab\\agent_korets\\.venv\\lib\\site-packages\\tqdm\\auto.py:21: TqdmWarning: IProgress not found. Please update jupyter and ipywidgets. See https://ipywidgets.readthedocs.io/en/stable/user_install.html\n",
      "  from .autonotebook import tqdm as notebook_tqdm\n"
     ]
    }
   ],
   "source": [
    "from src.backend.agent.agent import MyLangChainAgent"
   ]
  },
  {
   "cell_type": "code",
   "execution_count": 2,
   "id": "2ec91355",
   "metadata": {},
   "outputs": [
    {
     "name": "stderr",
     "output_type": "stream",
     "text": [
      "Some weights of BertForTokenClassification were not initialized from the model checkpoint at prajjwal1/bert-tiny and are newly initialized: ['classifier.bias', 'classifier.weight']\n",
      "You should probably TRAIN this model on a down-stream task to be able to use it for predictions and inference.\n"
     ]
    }
   ],
   "source": [
    "agent = MyLangChainAgent()"
   ]
  },
  {
   "cell_type": "code",
   "execution_count": 3,
   "id": "f6688443",
   "metadata": {},
   "outputs": [
    {
     "name": "stdout",
     "output_type": "stream",
     "text": [
      "\n",
      "\n",
      "\u001b[1m> Entering new AgentExecutor chain...\u001b[0m\n",
      "\u001b[32;1m\u001b[1;3m\n",
      "Invoking: `rag_ask` with `{'query': 'student name'}`\n",
      "\n",
      "\n",
      "\u001b[0m\u001b[33;1m\u001b[1;3mThe student's name is Khrystyna Korets.\u001b[0m\u001b[32;1m\u001b[1;3mThe student's name is Khrystyna Korets.\u001b[0m\n",
      "\n",
      "\u001b[1m> Finished chain.\u001b[0m\n"
     ]
    },
    {
     "data": {
      "text/plain": [
       "\"The student's name is Khrystyna Korets.\""
      ]
     },
     "execution_count": 3,
     "metadata": {},
     "output_type": "execute_result"
    }
   ],
   "source": [
    "agent.run(\"Find info about student name?\")"
   ]
  },
  {
   "cell_type": "code",
   "execution_count": 4,
   "id": "ec5b25ce",
   "metadata": {},
   "outputs": [
    {
     "name": "stdout",
     "output_type": "stream",
     "text": [
      "\n",
      "\n",
      "\u001b[1m> Entering new AgentExecutor chain...\u001b[0m\n",
      "\u001b[32;1m\u001b[1;3m\n",
      "Invoking: `anonymize_text` with `{'text': 'He wanted to visit Vilnius in last January, but weather in Lithuania is horrible this season'}`\n",
      "\n",
      "\n",
      "\u001b[0m\u001b[36;1m\u001b[1;3mhe wanted to visit {LOCATION} in last {DATE} , but weather in {LOCATION} is horrible this season\u001b[0m\u001b[32;1m\u001b[1;3mThe anonymized text is: \"He wanted to visit {LOCATION} in last {DATE}, but weather in {LOCATION} is horrible this season.\"\u001b[0m\n",
      "\n",
      "\u001b[1m> Finished chain.\u001b[0m\n"
     ]
    },
    {
     "data": {
      "text/plain": [
       "'The anonymized text is: \"He wanted to visit {LOCATION} in last {DATE}, but weather in {LOCATION} is horrible this season.\"'"
      ]
     },
     "execution_count": 4,
     "metadata": {},
     "output_type": "execute_result"
    }
   ],
   "source": [
    "agent.run(\"Anonymize: He wanted to visit Vilnius in last January, but weather in Lithuania is horrible this season\")"
   ]
  },
  {
   "cell_type": "code",
   "execution_count": 5,
   "id": "826246d4",
   "metadata": {},
   "outputs": [
    {
     "name": "stdout",
     "output_type": "stream",
     "text": [
      "\n",
      "\n",
      "\u001b[1m> Entering new AgentExecutor chain...\u001b[0m\n",
      "\u001b[32;1m\u001b[1;3mThe capital of Ukraine is Kyiv.\u001b[0m\n",
      "\n",
      "\u001b[1m> Finished chain.\u001b[0m\n"
     ]
    },
    {
     "data": {
      "text/plain": [
       "'The capital of Ukraine is Kyiv.'"
      ]
     },
     "execution_count": 5,
     "metadata": {},
     "output_type": "execute_result"
    }
   ],
   "source": [
    "agent.run(\"What is the capital of Ukraine?\")"
   ]
  }
 ],
 "metadata": {
  "kernelspec": {
   "display_name": "agent-korets",
   "language": "python",
   "name": "python3"
  },
  "language_info": {
   "codemirror_mode": {
    "name": "ipython",
    "version": 3
   },
   "file_extension": ".py",
   "mimetype": "text/x-python",
   "name": "python",
   "nbconvert_exporter": "python",
   "pygments_lexer": "ipython3",
   "version": "3.10.17"
  }
 },
 "nbformat": 4,
 "nbformat_minor": 5
}
